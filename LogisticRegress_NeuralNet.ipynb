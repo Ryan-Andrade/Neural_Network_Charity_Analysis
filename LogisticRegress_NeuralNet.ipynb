{
  "cells": [
    {
      "cell_type": "markdown",
      "metadata": {
        "colab_type": "text",
        "id": "view-in-github"
      },
      "source": [
        "<a href=\"https://colab.research.google.com/github/Ryan-Andrade/Neural_Network_Charity_Analysis/blob/main/LogisticRegress_NeuralNet.ipynb\" target=\"_parent\"><img src=\"https://colab.research.google.com/assets/colab-badge.svg\" alt=\"Open In Colab\"/></a>"
      ]
    },
    {
      "cell_type": "code",
      "execution_count": 1,
      "metadata": {
        "colab": {
          "base_uri": "https://localhost:8080/",
          "height": 206
        },
        "id": "4B_Gk9uuFTIM",
        "outputId": "42b09738-c8dd-4020-914f-833370f52e69"
      },
      "outputs": [
        {
          "data": {
            "text/html": [
              "<div>\n",
              "<style scoped>\n",
              "    .dataframe tbody tr th:only-of-type {\n",
              "        vertical-align: middle;\n",
              "    }\n",
              "\n",
              "    .dataframe tbody tr th {\n",
              "        vertical-align: top;\n",
              "    }\n",
              "\n",
              "    .dataframe thead th {\n",
              "        text-align: right;\n",
              "    }\n",
              "</style>\n",
              "<table border=\"1\" class=\"dataframe\">\n",
              "  <thead>\n",
              "    <tr style=\"text-align: right;\">\n",
              "      <th></th>\n",
              "      <th>Pregnancies</th>\n",
              "      <th>Glucose</th>\n",
              "      <th>BloodPressure</th>\n",
              "      <th>SkinThickness</th>\n",
              "      <th>Insulin</th>\n",
              "      <th>BMI</th>\n",
              "      <th>DiabetesPedigreeFunction</th>\n",
              "      <th>Age</th>\n",
              "      <th>Outcome</th>\n",
              "    </tr>\n",
              "  </thead>\n",
              "  <tbody>\n",
              "    <tr>\n",
              "      <th>0</th>\n",
              "      <td>6</td>\n",
              "      <td>148</td>\n",
              "      <td>72</td>\n",
              "      <td>35</td>\n",
              "      <td>0</td>\n",
              "      <td>33.6</td>\n",
              "      <td>0.627</td>\n",
              "      <td>50</td>\n",
              "      <td>1</td>\n",
              "    </tr>\n",
              "    <tr>\n",
              "      <th>1</th>\n",
              "      <td>1</td>\n",
              "      <td>85</td>\n",
              "      <td>66</td>\n",
              "      <td>29</td>\n",
              "      <td>0</td>\n",
              "      <td>26.6</td>\n",
              "      <td>0.351</td>\n",
              "      <td>31</td>\n",
              "      <td>0</td>\n",
              "    </tr>\n",
              "    <tr>\n",
              "      <th>2</th>\n",
              "      <td>8</td>\n",
              "      <td>183</td>\n",
              "      <td>64</td>\n",
              "      <td>0</td>\n",
              "      <td>0</td>\n",
              "      <td>23.3</td>\n",
              "      <td>0.672</td>\n",
              "      <td>32</td>\n",
              "      <td>1</td>\n",
              "    </tr>\n",
              "    <tr>\n",
              "      <th>3</th>\n",
              "      <td>1</td>\n",
              "      <td>89</td>\n",
              "      <td>66</td>\n",
              "      <td>23</td>\n",
              "      <td>94</td>\n",
              "      <td>28.1</td>\n",
              "      <td>0.167</td>\n",
              "      <td>21</td>\n",
              "      <td>0</td>\n",
              "    </tr>\n",
              "    <tr>\n",
              "      <th>4</th>\n",
              "      <td>0</td>\n",
              "      <td>137</td>\n",
              "      <td>40</td>\n",
              "      <td>35</td>\n",
              "      <td>168</td>\n",
              "      <td>43.1</td>\n",
              "      <td>2.288</td>\n",
              "      <td>33</td>\n",
              "      <td>1</td>\n",
              "    </tr>\n",
              "  </tbody>\n",
              "</table>\n",
              "</div>"
            ],
            "text/plain": [
              "   Pregnancies  Glucose  BloodPressure  SkinThickness  Insulin   BMI  \\\n",
              "0            6      148             72             35        0  33.6   \n",
              "1            1       85             66             29        0  26.6   \n",
              "2            8      183             64              0        0  23.3   \n",
              "3            1       89             66             23       94  28.1   \n",
              "4            0      137             40             35      168  43.1   \n",
              "\n",
              "   DiabetesPedigreeFunction  Age  Outcome  \n",
              "0                     0.627   50        1  \n",
              "1                     0.351   31        0  \n",
              "2                     0.672   32        1  \n",
              "3                     0.167   21        0  \n",
              "4                     2.288   33        1  "
            ]
          },
          "execution_count": 1,
          "metadata": {},
          "output_type": "execute_result"
        }
      ],
      "source": [
        "# Import our dependencies\n",
        "from sklearn.model_selection import train_test_split\n",
        "from sklearn.preprocessing import StandardScaler\n",
        "from sklearn.linear_model import LogisticRegression\n",
        "from sklearn.metrics import accuracy_score\n",
        "import pandas as pd\n",
        "import tensorflow as tf\n",
        "\n",
        "# Import our input dataset\n",
        "diabetes_df = pd.read_csv('diabetes.csv')\n",
        "diabetes_df.head()"
      ]
    },
    {
      "cell_type": "code",
      "execution_count": 2,
      "metadata": {
        "id": "_VD1ea4dF59E"
      },
      "outputs": [],
      "source": [
        "# Remove diabetes outcome target from features data\n",
        "y = diabetes_df.Outcome\n",
        "X = diabetes_df.drop(columns=\"Outcome\")\n",
        "\n",
        "# Split training/test datasets\n",
        "X_train, X_test, y_train, y_test = train_test_split(X, y, random_state=42, stratify=y)"
      ]
    },
    {
      "cell_type": "code",
      "execution_count": 3,
      "metadata": {
        "id": "NGdCpt6TF9V2"
      },
      "outputs": [],
      "source": [
        "# Preprocess numerical data for neural network\n",
        "\n",
        "# Create a StandardScaler instance\n",
        "scaler = StandardScaler()\n",
        "\n",
        "# Fit the StandardScaler\n",
        "X_scaler = scaler.fit(X_train)\n",
        "\n",
        "# Scale the data\n",
        "X_train_scaled = X_scaler.transform(X_train)\n",
        "X_test_scaled = X_scaler.transform(X_test)"
      ]
    },
    {
      "cell_type": "code",
      "execution_count": 4,
      "metadata": {
        "colab": {
          "base_uri": "https://localhost:8080/"
        },
        "id": "heb-8rUSGA47",
        "outputId": "16c73986-7b1f-482d-bed4-dd4d4f6953b8"
      },
      "outputs": [
        {
          "name": "stdout",
          "output_type": "stream",
          "text": [
            " Logistic regression model accuracy: 0.729\n"
          ]
        }
      ],
      "source": [
        "# Define the logistic regression model\n",
        "log_classifier = LogisticRegression(solver=\"lbfgs\",max_iter=200)\n",
        "\n",
        "# Train the model\n",
        "log_classifier.fit(X_train,y_train)\n",
        "\n",
        "# Evaluate the model\n",
        "y_pred = log_classifier.predict(X_test)\n",
        "print(f\" Logistic regression model accuracy: {accuracy_score(y_test,y_pred):.3f}\")"
      ]
    },
    {
      "cell_type": "code",
      "execution_count": 5,
      "metadata": {
        "colab": {
          "base_uri": "https://localhost:8080/"
        },
        "id": "sC9MFzWuGEw-",
        "outputId": "2d379c50-56e8-416d-cb67-a42a50362221"
      },
      "outputs": [
        {
          "name": "stdout",
          "output_type": "stream",
          "text": [
            "Epoch 1/50\n",
            "18/18 [==============================] - 2s 5ms/step - loss: 0.6779 - accuracy: 0.5920\n",
            "Epoch 2/50\n",
            "18/18 [==============================] - 0s 5ms/step - loss: 0.6413 - accuracy: 0.6788\n",
            "Epoch 3/50\n",
            "18/18 [==============================] - 0s 5ms/step - loss: 0.6130 - accuracy: 0.7101\n",
            "Epoch 4/50\n",
            "18/18 [==============================] - 0s 5ms/step - loss: 0.5910 - accuracy: 0.7292\n",
            "Epoch 5/50\n",
            "18/18 [==============================] - 0s 5ms/step - loss: 0.5726 - accuracy: 0.7396\n",
            "Epoch 6/50\n",
            "18/18 [==============================] - 0s 5ms/step - loss: 0.5583 - accuracy: 0.7465\n",
            "Epoch 7/50\n",
            "18/18 [==============================] - 0s 5ms/step - loss: 0.5453 - accuracy: 0.7535\n",
            "Epoch 8/50\n",
            "18/18 [==============================] - 0s 5ms/step - loss: 0.5347 - accuracy: 0.7569\n",
            "Epoch 9/50\n",
            "18/18 [==============================] - 0s 5ms/step - loss: 0.5253 - accuracy: 0.7604\n",
            "Epoch 10/50\n",
            "18/18 [==============================] - 0s 5ms/step - loss: 0.5174 - accuracy: 0.7656\n",
            "Epoch 11/50\n",
            "18/18 [==============================] - 0s 5ms/step - loss: 0.5104 - accuracy: 0.7743\n",
            "Epoch 12/50\n",
            "18/18 [==============================] - 0s 5ms/step - loss: 0.5039 - accuracy: 0.7743\n",
            "Epoch 13/50\n",
            "18/18 [==============================] - 0s 5ms/step - loss: 0.4987 - accuracy: 0.7708\n",
            "Epoch 14/50\n",
            "18/18 [==============================] - 0s 5ms/step - loss: 0.4933 - accuracy: 0.7812\n",
            "Epoch 15/50\n",
            "18/18 [==============================] - 0s 5ms/step - loss: 0.4889 - accuracy: 0.7812\n",
            "Epoch 16/50\n",
            "18/18 [==============================] - 0s 5ms/step - loss: 0.4852 - accuracy: 0.7795\n",
            "Epoch 17/50\n",
            "18/18 [==============================] - 0s 5ms/step - loss: 0.4812 - accuracy: 0.7847\n",
            "Epoch 18/50\n",
            "18/18 [==============================] - 0s 5ms/step - loss: 0.4784 - accuracy: 0.7830\n",
            "Epoch 19/50\n",
            "18/18 [==============================] - 0s 5ms/step - loss: 0.4752 - accuracy: 0.7847\n",
            "Epoch 20/50\n",
            "18/18 [==============================] - 0s 5ms/step - loss: 0.4724 - accuracy: 0.7865\n",
            "Epoch 21/50\n",
            "18/18 [==============================] - 0s 5ms/step - loss: 0.4701 - accuracy: 0.7899\n",
            "Epoch 22/50\n",
            "18/18 [==============================] - 0s 5ms/step - loss: 0.4679 - accuracy: 0.7917\n",
            "Epoch 23/50\n",
            "18/18 [==============================] - 0s 5ms/step - loss: 0.4658 - accuracy: 0.7917\n",
            "Epoch 24/50\n",
            "18/18 [==============================] - 0s 5ms/step - loss: 0.4640 - accuracy: 0.7917\n",
            "Epoch 25/50\n",
            "18/18 [==============================] - 0s 5ms/step - loss: 0.4623 - accuracy: 0.7917\n",
            "Epoch 26/50\n",
            "18/18 [==============================] - 0s 5ms/step - loss: 0.4608 - accuracy: 0.7951\n",
            "Epoch 27/50\n",
            "18/18 [==============================] - 0s 5ms/step - loss: 0.4590 - accuracy: 0.7951\n",
            "Epoch 28/50\n",
            "18/18 [==============================] - 0s 6ms/step - loss: 0.4577 - accuracy: 0.7986\n",
            "Epoch 29/50\n",
            "18/18 [==============================] - 0s 5ms/step - loss: 0.4563 - accuracy: 0.7986\n",
            "Epoch 30/50\n",
            "18/18 [==============================] - 0s 5ms/step - loss: 0.4552 - accuracy: 0.7986\n",
            "Epoch 31/50\n",
            "18/18 [==============================] - 0s 5ms/step - loss: 0.4537 - accuracy: 0.7969\n",
            "Epoch 32/50\n",
            "18/18 [==============================] - 0s 5ms/step - loss: 0.4527 - accuracy: 0.7951\n",
            "Epoch 33/50\n",
            "18/18 [==============================] - 0s 5ms/step - loss: 0.4517 - accuracy: 0.7969\n",
            "Epoch 34/50\n",
            "18/18 [==============================] - 0s 5ms/step - loss: 0.4507 - accuracy: 0.7917\n",
            "Epoch 35/50\n",
            "18/18 [==============================] - 0s 5ms/step - loss: 0.4492 - accuracy: 0.7934\n",
            "Epoch 36/50\n",
            "18/18 [==============================] - 0s 5ms/step - loss: 0.4483 - accuracy: 0.7899\n",
            "Epoch 37/50\n",
            "18/18 [==============================] - 0s 5ms/step - loss: 0.4477 - accuracy: 0.7934\n",
            "Epoch 38/50\n",
            "18/18 [==============================] - 0s 5ms/step - loss: 0.4468 - accuracy: 0.7882\n",
            "Epoch 39/50\n",
            "18/18 [==============================] - 0s 5ms/step - loss: 0.4463 - accuracy: 0.7934\n",
            "Epoch 40/50\n",
            "18/18 [==============================] - 0s 5ms/step - loss: 0.4448 - accuracy: 0.7917\n",
            "Epoch 41/50\n",
            "18/18 [==============================] - 0s 5ms/step - loss: 0.4447 - accuracy: 0.7934\n",
            "Epoch 42/50\n",
            "18/18 [==============================] - 0s 5ms/step - loss: 0.4437 - accuracy: 0.7951\n",
            "Epoch 43/50\n",
            "18/18 [==============================] - 0s 5ms/step - loss: 0.4425 - accuracy: 0.7951\n",
            "Epoch 44/50\n",
            "18/18 [==============================] - 0s 5ms/step - loss: 0.4418 - accuracy: 0.7986\n",
            "Epoch 45/50\n",
            "18/18 [==============================] - 0s 5ms/step - loss: 0.4412 - accuracy: 0.7969\n",
            "Epoch 46/50\n",
            "18/18 [==============================] - 0s 5ms/step - loss: 0.4405 - accuracy: 0.7969\n",
            "Epoch 47/50\n",
            "18/18 [==============================] - 0s 5ms/step - loss: 0.4399 - accuracy: 0.7969\n",
            "Epoch 48/50\n",
            "18/18 [==============================] - 0s 4ms/step - loss: 0.4391 - accuracy: 0.7986\n",
            "Epoch 49/50\n",
            "18/18 [==============================] - 0s 4ms/step - loss: 0.4383 - accuracy: 0.7986\n",
            "Epoch 50/50\n",
            "18/18 [==============================] - 0s 4ms/step - loss: 0.4376 - accuracy: 0.8003\n",
            "6/6 - 0s - loss: 0.4829 - accuracy: 0.7396 - 102ms/epoch - 17ms/step\n",
            "Loss: 0.48289722204208374, Accuracy: 0.7395833730697632\n"
          ]
        }
      ],
      "source": [
        "# Define the basic neural network model\n",
        "nn_model = tf.keras.models.Sequential()\n",
        "nn_model.add(tf.keras.layers.Dense(units=16, activation=\"relu\", input_dim=8))\n",
        "nn_model.add(tf.keras.layers.Dense(units=1, activation=\"sigmoid\"))\n",
        "\n",
        "# Compile the Sequential model together and customize metrics\n",
        "nn_model.compile(loss=\"binary_crossentropy\", optimizer=\"adam\", metrics=[\"accuracy\"])\n",
        "\n",
        "# Train the model\n",
        "fit_model = nn_model.fit(X_train_scaled, y_train, epochs=50)\n",
        "\n",
        "# Evaluate the model using the test data\n",
        "model_loss, model_accuracy = nn_model.evaluate(X_test_scaled,y_test,verbose=2)\n",
        "print(f\"Loss: {model_loss}, Accuracy: {model_accuracy}\")"
      ]
    }
  ],
  "metadata": {
    "colab": {
      "authorship_tag": "ABX9TyPtdyjITOA/xamQtab4bUIa",
      "include_colab_link": true,
      "name": "LogisticRegress_NeuralNet.ipynb",
      "provenance": []
    },
    "interpreter": {
      "hash": "83e1aeb387f16389c15b4e712d530e8cb709f9cfce3c2831e527946957170d4f"
    },
    "kernelspec": {
      "display_name": "Python 3.9.12 ('mlenv')",
      "language": "python",
      "name": "python3"
    },
    "language_info": {
      "codemirror_mode": {
        "name": "ipython",
        "version": 3
      },
      "file_extension": ".py",
      "mimetype": "text/x-python",
      "name": "python",
      "nbconvert_exporter": "python",
      "pygments_lexer": "ipython3",
      "version": "3.9.12"
    }
  },
  "nbformat": 4,
  "nbformat_minor": 0
}
